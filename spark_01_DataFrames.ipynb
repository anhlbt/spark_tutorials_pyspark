{
 "cells": [
  {
   "cell_type": "code",
   "execution_count": 1,
   "metadata": {
    "collapsed": false
   },
   "outputs": [],
   "source": [
    "import pyspark\n",
    "from pyspark import SparkContext\n",
    "from pyspark.sql import SQLContext\n",
    "from pyspark.sql import Row\n",
    "from pyspark.sql.types import (StructType, \n",
    "                               StructField, \n",
    "                               FloatType, \n",
    "                               IntegerType, \n",
    "                               StringType)\n",
    "from pyspark.sql.functions import udf, avg, sum, count\n",
    "\n",
    "import pandas as pd\n",
    "from pprint import pprint\n",
    "sc = SparkContext(\"local[*]\", \"My App Name\")\n",
    "sqlContext = SQLContext(sc)"
   ]
  },
  {
   "cell_type": "code",
   "execution_count": 2,
   "metadata": {
    "collapsed": false
   },
   "outputs": [
    {
     "name": "stdout",
     "output_type": "stream",
     "text": [
      "John\n",
      "3.4\n"
     ]
    }
   ],
   "source": [
    "row = Row(name='John', GPA=3.4)\n",
    "print(row.name)\n",
    "print(row.GPA)"
   ]
  },
  {
   "cell_type": "code",
   "execution_count": 3,
   "metadata": {
    "collapsed": false
   },
   "outputs": [
    {
     "name": "stdout",
     "output_type": "stream",
     "text": [
      "+-----+---+--------+---+\n",
      "|  SID|GPA|province|age|\n",
      "+-----+---+--------+---+\n",
      "| 2310|3.4|      CA| 18|\n",
      "| 1173|3.9|      CA| 19|\n",
      "|20393|4.0|      DC| 20|\n",
      "| 3841|3.4|      CA| 19|\n",
      "+-----+---+--------+---+\n",
      "only showing top 4 rows\n",
      "\n",
      "5\n",
      "[Row(SID=2310, GPA=3.4000000953674316, province='CA', age=18),\n",
      " Row(SID=1173, GPA=3.9000000953674316, province='CA', age=19),\n",
      " Row(SID=20393, GPA=4.0, province='DC', age=20),\n",
      " Row(SID=3841, GPA=3.4000000953674316, province='CA', age=19),\n",
      " Row(SID=39183, GPA=3.799999952316284, province='DC', age=20)]\n",
      "+-------+------------------+-------------------+------------------+\n",
      "|summary|               SID|                GPA|               age|\n",
      "+-------+------------------+-------------------+------------------+\n",
      "|  count|                 5|                  5|                 5|\n",
      "|   mean|           13380.0|  3.700000047683716|              19.2|\n",
      "| stddev|16412.839851774585|0.28284267454246087|0.8366600265340756|\n",
      "|    min|              1173|                3.4|                18|\n",
      "|    max|             39183|                4.0|                20|\n",
      "+-------+------------------+-------------------+------------------+\n",
      "\n"
     ]
    }
   ],
   "source": [
    "data = [(2310,3.4,'CA',18), \n",
    "        (1173,3.9,'CA',19), \n",
    "        (20393,4.0,'DC',20), \n",
    "        (3841,3.4,'CA',19), \n",
    "        (39183,3.8,'DC',20)]\n",
    "\n",
    "schema = StructType([StructField('SID',     IntegerType(),  True),\n",
    "                     StructField('GPA',      FloatType(),   True),\n",
    "                     StructField('province', StringType(),  True),\n",
    "                     StructField('age',      IntegerType(), True)])\n",
    "\n",
    "data2 = [(1173,'John'), \n",
    "        (2310, 'Alex'), \n",
    "        (39183,'Mike'), \n",
    "        (20393,'Jessica'), \n",
    "        (3841,'Eric'),\n",
    "        (19328,'Luke')]\n",
    "\n",
    "schema2 = StructType([StructField('SID',  IntegerType(),  True),\n",
    "                      StructField('name', StringType(),   True)])\n",
    "                     \n",
    "                    \n",
    "df = sqlContext.createDataFrame(data, schema)\n",
    "df2 = sqlContext.createDataFrame(data2, schema2)\n",
    "                      \n",
    "df.show(4)\n",
    "print(df.count())\n",
    "pprint(df.collect())\n",
    "df.describe().show()"
   ]
  },
  {
   "cell_type": "code",
   "execution_count": 4,
   "metadata": {
    "collapsed": false
   },
   "outputs": [
    {
     "data": {
      "text/plain": [
       "[Row(SID=2310, percentage=85.0),\n",
       " Row(SID=1173, percentage=97.5),\n",
       " Row(SID=20393, percentage=100.0)]"
      ]
     },
     "execution_count": 4,
     "metadata": {},
     "output_type": "execute_result"
    }
   ],
   "source": [
    "normalize = udf(lambda x: 100*x/4.0, FloatType())\n",
    "df_GPA_normalized = df.select(df.SID, normalize(df.GPA).alias('percentage'))\n",
    "df_GPA_normalized.take(3)"
   ]
  },
  {
   "cell_type": "code",
   "execution_count": 5,
   "metadata": {
    "collapsed": false
   },
   "outputs": [
    {
     "name": "stdout",
     "output_type": "stream",
     "text": [
      "+-----+-------------------+\n",
      "|  SID|              ratio|\n",
      "+-----+-------------------+\n",
      "| 2310|0.18888889418707955|\n",
      "| 1173|0.20526316291407534|\n",
      "|20393|                0.2|\n",
      "| 3841|0.17894737344039113|\n",
      "|39183| 0.1899999976158142|\n",
      "+-----+-------------------+\n",
      "\n"
     ]
    }
   ],
   "source": [
    "df_divide = df.select(df.SID, (df.GPA/df.age).alias('ratio'))\n",
    "df_divide.show()"
   ]
  },
  {
   "cell_type": "code",
   "execution_count": 6,
   "metadata": {
    "collapsed": false
   },
   "outputs": [
    {
     "name": "stdout",
     "output_type": "stream",
     "text": [
      "[Row(SID=2310, GPA=3.4000000953674316), Row(SID=3841, GPA=3.4000000953674316)]\n"
     ]
    }
   ],
   "source": [
    "df_low_GPA = df.filter(df.GPA < 3.8).select(df.SID, df.GPA).limit(2)\n",
    "pprint(df_low_GPA.collect())"
   ]
  },
  {
   "cell_type": "code",
   "execution_count": 7,
   "metadata": {
    "collapsed": false
   },
   "outputs": [
    {
     "name": "stdout",
     "output_type": "stream",
     "text": [
      "[(2310, 3.4000000953674316), (3841, 3.4000000953674316)]\n"
     ]
    }
   ],
   "source": [
    "df_low_GPA_sorted = df_low_GPA.sort('GPA', ascending=False)\n",
    "pprint([(x.SID, x.GPA) for x in df_low_GPA_sorted.collect()])"
   ]
  },
  {
   "cell_type": "code",
   "execution_count": 8,
   "metadata": {
    "collapsed": false
   },
   "outputs": [
    {
     "data": {
      "text/html": [
       "<div>\n",
       "<table border=\"1\" class=\"dataframe\">\n",
       "  <thead>\n",
       "    <tr style=\"text-align: right;\">\n",
       "      <th></th>\n",
       "      <th>province</th>\n",
       "      <th>avg(GPA)</th>\n",
       "      <th>count(SID)</th>\n",
       "    </tr>\n",
       "  </thead>\n",
       "  <tbody>\n",
       "    <tr>\n",
       "      <th>0</th>\n",
       "      <td>DC</td>\n",
       "      <td>3.900000</td>\n",
       "      <td>2</td>\n",
       "    </tr>\n",
       "    <tr>\n",
       "      <th>1</th>\n",
       "      <td>CA</td>\n",
       "      <td>3.566667</td>\n",
       "      <td>3</td>\n",
       "    </tr>\n",
       "  </tbody>\n",
       "</table>\n",
       "</div>"
      ],
      "text/plain": [
       "  province  avg(GPA)  count(SID)\n",
       "0       DC  3.900000           2\n",
       "1       CA  3.566667           3"
      ]
     },
     "execution_count": 8,
     "metadata": {},
     "output_type": "execute_result"
    }
   ],
   "source": [
    "df_province_avg = df.groupBy('province').agg({'GPA':'avg', 'SID':'count'})\n",
    "panda_df = df_province_avg.toPandas()\n",
    "panda_df.head()"
   ]
  },
  {
   "cell_type": "code",
   "execution_count": 9,
   "metadata": {
    "collapsed": false
   },
   "outputs": [
    {
     "name": "stdout",
     "output_type": "stream",
     "text": [
      "+--------+-----+\n",
      "|province|count|\n",
      "+--------+-----+\n",
      "|      DC|    2|\n",
      "|      CA|    3|\n",
      "+--------+-----+\n",
      "\n"
     ]
    }
   ],
   "source": [
    "df_province_count = df.groupBy('province').agg(count('GPA').alias('count'))\n",
    "df_province_count.show()"
   ]
  },
  {
   "cell_type": "code",
   "execution_count": 10,
   "metadata": {
    "collapsed": false
   },
   "outputs": [
    {
     "name": "stdout",
     "output_type": "stream",
     "text": [
      "3.700000047683716\n"
     ]
    }
   ],
   "source": [
    "print(df.agg(avg('GPA').alias('avggpa')).first().avggpa)"
   ]
  },
  {
   "cell_type": "code",
   "execution_count": 11,
   "metadata": {
    "collapsed": false
   },
   "outputs": [
    {
     "name": "stdout",
     "output_type": "stream",
     "text": [
      "+-----+----+--------+----+-------+\n",
      "|  SID| GPA|province| age|   name|\n",
      "+-----+----+--------+----+-------+\n",
      "|19328|null|    null|null|   Luke|\n",
      "| 3841| 3.4|      CA|  19|   Eric|\n",
      "|39183| 3.8|      DC|  20|   Mike|\n",
      "| 1173| 3.9|      CA|  19|   John|\n",
      "|20393| 4.0|      DC|  20|Jessica|\n",
      "| 2310| 3.4|      CA|  18|   Alex|\n",
      "+-----+----+--------+----+-------+\n",
      "\n"
     ]
    }
   ],
   "source": [
    "df3 = df.join(df2, on='SID', how='outer')\n",
    "df3.show()"
   ]
  },
  {
   "cell_type": "code",
   "execution_count": 12,
   "metadata": {
    "collapsed": false
   },
   "outputs": [
    {
     "data": {
      "text/plain": [
       "[Row(value='1. This is the first line'),\n",
       " Row(value='2. This is the second line'),\n",
       " Row(value='3. another line'),\n",
       " Row(value='4. one more line'),\n",
       " Row(value='5. last line')]"
      ]
     },
     "execution_count": 12,
     "metadata": {},
     "output_type": "execute_result"
    }
   ],
   "source": [
    "df = sqlContext.read.text('textfile.txt')\n",
    "df.collect()"
   ]
  },
  {
   "cell_type": "code",
   "execution_count": 13,
   "metadata": {
    "collapsed": false
   },
   "outputs": [
    {
     "data": {
      "text/plain": [
       "[Row(column1=2, column2=1.2),\n",
       " Row(column1=3, column2=3.0),\n",
       " Row(column1=4, column2=2.0)]"
      ]
     },
     "execution_count": 13,
     "metadata": {},
     "output_type": "execute_result"
    }
   ],
   "source": [
    "panda_df = pd.DataFrame({'column1':[2,3,4], 'column2':[1.2,3,2]})\n",
    "df = sqlContext.createDataFrame(panda_df)\n",
    "df.collect()"
   ]
  },
  {
   "cell_type": "code",
   "execution_count": 14,
   "metadata": {
    "collapsed": false
   },
   "outputs": [
    {
     "data": {
      "text/plain": [
       "[Row(slen=25), Row(slen=26), Row(slen=15), Row(slen=16), Row(slen=12)]"
      ]
     },
     "execution_count": 14,
     "metadata": {},
     "output_type": "execute_result"
    }
   ],
   "source": [
    "slen = udf(lambda s: len(s), IntegerType())\n",
    "df = sqlContext.read.text('textfile.txt')\n",
    "new_df = df.select(slen(df.value).alias('slen'))\n",
    "new_df.collect()"
   ]
  }
 ],
 "metadata": {
  "anaconda-cloud": {},
  "kernelspec": {
   "display_name": "Python [Root]",
   "language": "python",
   "name": "Python [Root]"
  },
  "language_info": {
   "codemirror_mode": {
    "name": "ipython",
    "version": 3
   },
   "file_extension": ".py",
   "mimetype": "text/x-python",
   "name": "python",
   "nbconvert_exporter": "python",
   "pygments_lexer": "ipython3",
   "version": "3.5.2"
  }
 },
 "nbformat": 4,
 "nbformat_minor": 0
}
