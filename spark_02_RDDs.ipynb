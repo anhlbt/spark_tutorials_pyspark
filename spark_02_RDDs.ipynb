{
 "cells": [
  {
   "cell_type": "code",
   "execution_count": 111,
   "metadata": {
    "collapsed": true
   },
   "outputs": [],
   "source": [
    "from pyspark import SparkContext\n",
    "from math import sqrt\n",
    "from pprint import pprint\n"
   ]
  },
  {
   "cell_type": "code",
   "execution_count": 112,
   "metadata": {
    "collapsed": false
   },
   "outputs": [],
   "source": [
    "sc = SparkContext('local[*]','My App Name')\n",
    "data = [0, 1, 2, 4, 8, 16, 32, 64, 128, 256, 512, 1024]\n",
    "rDD = sc.parallelize(data, 4)\n"
   ]
  },
  {
   "cell_type": "code",
   "execution_count": 82,
   "metadata": {
    "collapsed": false
   },
   "outputs": [
    {
     "data": {
      "text/plain": [
       "[1.4, 2.0, 2.8, 4.0, 5.7, 8.0, 11.3, 16.0, 22.6, 32.0]"
      ]
     },
     "execution_count": 82,
     "metadata": {},
     "output_type": "execute_result"
    }
   ],
   "source": [
    "rDD.map(lambda x: round(sqrt(x),1)).filter(lambda x: x > 1).collect()"
   ]
  },
  {
   "cell_type": "code",
   "execution_count": 84,
   "metadata": {
    "collapsed": false
   },
   "outputs": [
    {
     "data": {
      "text/plain": [
       "10000001.999023438"
      ]
     },
     "execution_count": 84,
     "metadata": {},
     "output_type": "execute_result"
    }
   ],
   "source": [
    "rDD.map(lambda x: 1/x if x !=0 else 1E7).reduce(lambda x, y: x+y)"
   ]
  },
  {
   "cell_type": "code",
   "execution_count": 115,
   "metadata": {
    "collapsed": false
   },
   "outputs": [
    {
     "name": "stdout",
     "output_type": "stream",
     "text": [
      "[404, 302, 200, 304]\n",
      "3\n"
     ]
    }
   ],
   "source": [
    "rDD2 = sc.textFile('data/part-*.txt', 10)\n",
    "broken_lines = sc.accumulator(0)\n",
    "\n",
    "def get_status(line):\n",
    "    global broken_lines\n",
    "    try:\n",
    "        status = int(line.split()[-2])\n",
    "    except:\n",
    "        status = -1\n",
    "        broken_lines += 1\n",
    "    return status\n",
    "\n",
    "pprint(rDD2.map(get_status).filter(lambda x: x != -1).distinct().collect())\n",
    "print(broken_lines)"
   ]
  },
  {
   "cell_type": "code",
   "execution_count": 116,
   "metadata": {
    "collapsed": false
   },
   "outputs": [
    {
     "data": {
      "text/plain": [
       "[(404, 2), (302, 2), (200, 115), (304, 11), (-1, 3)]"
      ]
     },
     "execution_count": 116,
     "metadata": {},
     "output_type": "execute_result"
    }
   ],
   "source": [
    "rDD3 = rDD2.map(get_status)\\\n",
    "           .map(lambda x: (x, 1)).reduceByKey(lambda x, y: x+y)\n",
    "rDD3.cache()\n",
    "rDD3.take(10)"
   ]
  },
  {
   "cell_type": "code",
   "execution_count": 119,
   "metadata": {
    "collapsed": false
   },
   "outputs": [
    {
     "data": {
      "text/plain": [
       "[(200, 115), (304, 11), (404, 2), (302, 2)]"
      ]
     },
     "execution_count": 119,
     "metadata": {},
     "output_type": "execute_result"
    }
   ],
   "source": [
    "rDD3.filter(lambda x: x[0] != -1).takeOrdered(4, key=lambda x: -x[1])"
   ]
  },
  {
   "cell_type": "code",
   "execution_count": null,
   "metadata": {
    "collapsed": true
   },
   "outputs": [],
   "source": []
  }
 ],
 "metadata": {
  "anaconda-cloud": {},
  "kernelspec": {
   "display_name": "Python [Root]",
   "language": "python",
   "name": "Python [Root]"
  },
  "language_info": {
   "codemirror_mode": {
    "name": "ipython",
    "version": 3
   },
   "file_extension": ".py",
   "mimetype": "text/x-python",
   "name": "python",
   "nbconvert_exporter": "python",
   "pygments_lexer": "ipython3",
   "version": "3.5.2"
  }
 },
 "nbformat": 4,
 "nbformat_minor": 0
}
